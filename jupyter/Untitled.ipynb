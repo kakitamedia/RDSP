{
 "cells": [
  {
   "cell_type": "code",
   "execution_count": 13,
   "id": "2ff6c39f-b5e7-4947-899a-e5a0383a9bb3",
   "metadata": {},
   "outputs": [],
   "source": [
    "import sys\n",
    "sys.path.append('..')"
   ]
  },
  {
   "cell_type": "code",
   "execution_count": 18,
   "id": "36157b36-aa14-48fa-9af8-19bcd59dbe6f",
   "metadata": {},
   "outputs": [],
   "source": [
    "import numpy as np\n",
    "\n",
    "from model.config import cfg\n",
    "from model.modeling.build_model import Model"
   ]
  },
  {
   "cell_type": "code",
   "execution_count": 16,
   "id": "c5f50961-d364-44c0-acaa-6b031c441ee6",
   "metadata": {},
   "outputs": [],
   "source": [
    "cfg.merge_from_file('../configs/debug.yaml')\n",
    "cfg.freeze()"
   ]
  },
  {
   "cell_type": "code",
   "execution_count": 19,
   "id": "7f35c72b-abac-4235-b270-57d39bbe5023",
   "metadata": {},
   "outputs": [
    {
     "ename": "SyntaxError",
     "evalue": "unmatched ')' (305472998.py, line 4)",
     "output_type": "error",
     "traceback": [
      "\u001b[0;36m  Cell \u001b[0;32mIn[19], line 4\u001b[0;36m\u001b[0m\n\u001b[0;31m    image_path = 'mmdetection/demo/demo.jpg')\u001b[0m\n\u001b[0m                                            ^\u001b[0m\n\u001b[0;31mSyntaxError\u001b[0m\u001b[0;31m:\u001b[0m unmatched ')'\n"
     ]
    }
   ],
   "source": [
    "import cv2\n",
    "from PIL import Image\n",
    "\n",
    "image_path = 'mmdetection/demo/demo.jpg')\n",
    "\n",
    "image_cv2 = cv2.imread(image_path)\n",
    "image_pil = np.array(Image.open(image_path).convert('RGB'))[:, :, ::-1]\n",
    "\n"
   ]
  },
  {
   "cell_type": "code",
   "execution_count": null,
   "id": "3406e93f-9750-4621-8f54-e3831207d863",
   "metadata": {},
   "outputs": [],
   "source": []
  }
 ],
 "metadata": {
  "kernelspec": {
   "display_name": "Python 3 (ipykernel)",
   "language": "python",
   "name": "python3"
  },
  "language_info": {
   "codemirror_mode": {
    "name": "ipython",
    "version": 3
   },
   "file_extension": ".py",
   "mimetype": "text/x-python",
   "name": "python",
   "nbconvert_exporter": "python",
   "pygments_lexer": "ipython3",
   "version": "3.10.8"
  }
 },
 "nbformat": 4,
 "nbformat_minor": 5
}
